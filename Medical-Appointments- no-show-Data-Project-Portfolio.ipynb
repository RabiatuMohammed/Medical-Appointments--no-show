{
 "cells": [
  {
   "cell_type": "code",
   "execution_count": 1,
   "id": "3df8b265",
   "metadata": {},
   "outputs": [],
   "source": [
    "import pandas as pd\n",
    "import numpy as np\n",
    "from sklearn.model_selection import train_test_split\n",
    "from sklearn.linear_model import LogisticRegression\n",
    "from sklearn.metrics import accuracy_score, confusion_matrix, classification_report\n",
    "import matplotlib.pyplot as plt\n",
    "import seaborn as sns"
   ]
  },
  {
   "cell_type": "code",
   "execution_count": 14,
   "id": "2d29b5c3",
   "metadata": {},
   "outputs": [
    {
     "data": {
      "text/html": [
       "<div>\n",
       "<style scoped>\n",
       "    .dataframe tbody tr th:only-of-type {\n",
       "        vertical-align: middle;\n",
       "    }\n",
       "\n",
       "    .dataframe tbody tr th {\n",
       "        vertical-align: top;\n",
       "    }\n",
       "\n",
       "    .dataframe thead th {\n",
       "        text-align: right;\n",
       "    }\n",
       "</style>\n",
       "<table border=\"1\" class=\"dataframe\">\n",
       "  <thead>\n",
       "    <tr style=\"text-align: right;\">\n",
       "      <th></th>\n",
       "      <th>specialty</th>\n",
       "      <th>appointment_time</th>\n",
       "      <th>gender</th>\n",
       "      <th>appointment_date</th>\n",
       "      <th>no_show</th>\n",
       "      <th>no_show_reason</th>\n",
       "      <th>disability</th>\n",
       "      <th>date_of_birth</th>\n",
       "      <th>entry_service_date</th>\n",
       "      <th>city</th>\n",
       "      <th>...</th>\n",
       "      <th>over_60_years_old</th>\n",
       "      <th>patient_needs_companion</th>\n",
       "      <th>average_temp_day</th>\n",
       "      <th>average_rain_day</th>\n",
       "      <th>max_temp_day</th>\n",
       "      <th>max_rain_day</th>\n",
       "      <th>rainy_day_before</th>\n",
       "      <th>storm_day_before</th>\n",
       "      <th>rain_intensity</th>\n",
       "      <th>heat_intensity</th>\n",
       "    </tr>\n",
       "  </thead>\n",
       "  <tbody>\n",
       "    <tr>\n",
       "      <th>0</th>\n",
       "      <td>physiotherapy</td>\n",
       "      <td>13:20</td>\n",
       "      <td>M</td>\n",
       "      <td>09/09/2021</td>\n",
       "      <td>yes</td>\n",
       "      <td>surto</td>\n",
       "      <td>NaN</td>\n",
       "      <td>NaN</td>\n",
       "      <td>NaN</td>\n",
       "      <td>NaN</td>\n",
       "      <td>...</td>\n",
       "      <td>0</td>\n",
       "      <td>0</td>\n",
       "      <td>20.75</td>\n",
       "      <td>0.01</td>\n",
       "      <td>23.7</td>\n",
       "      <td>0.2</td>\n",
       "      <td>1</td>\n",
       "      <td>1</td>\n",
       "      <td>no_rain</td>\n",
       "      <td>mild</td>\n",
       "    </tr>\n",
       "    <tr>\n",
       "      <th>1</th>\n",
       "      <td>psychotherapy</td>\n",
       "      <td>13:20</td>\n",
       "      <td>M</td>\n",
       "      <td>09/09/2021</td>\n",
       "      <td>no</td>\n",
       "      <td>NaN</td>\n",
       "      <td>NaN</td>\n",
       "      <td>NaN</td>\n",
       "      <td>NaN</td>\n",
       "      <td>NaN</td>\n",
       "      <td>...</td>\n",
       "      <td>0</td>\n",
       "      <td>0</td>\n",
       "      <td>20.75</td>\n",
       "      <td>0.01</td>\n",
       "      <td>23.7</td>\n",
       "      <td>0.2</td>\n",
       "      <td>1</td>\n",
       "      <td>1</td>\n",
       "      <td>no_rain</td>\n",
       "      <td>mild</td>\n",
       "    </tr>\n",
       "    <tr>\n",
       "      <th>2</th>\n",
       "      <td>speech therapy</td>\n",
       "      <td>13:20</td>\n",
       "      <td>F</td>\n",
       "      <td>09/09/2021</td>\n",
       "      <td>no</td>\n",
       "      <td>NaN</td>\n",
       "      <td>NaN</td>\n",
       "      <td>NaN</td>\n",
       "      <td>NaN</td>\n",
       "      <td>NaN</td>\n",
       "      <td>...</td>\n",
       "      <td>0</td>\n",
       "      <td>0</td>\n",
       "      <td>20.75</td>\n",
       "      <td>0.01</td>\n",
       "      <td>23.7</td>\n",
       "      <td>0.2</td>\n",
       "      <td>1</td>\n",
       "      <td>1</td>\n",
       "      <td>no_rain</td>\n",
       "      <td>mild</td>\n",
       "    </tr>\n",
       "    <tr>\n",
       "      <th>3</th>\n",
       "      <td>physiotherapy</td>\n",
       "      <td>13:20</td>\n",
       "      <td>F</td>\n",
       "      <td>09/09/2021</td>\n",
       "      <td>no</td>\n",
       "      <td>NaN</td>\n",
       "      <td>NaN</td>\n",
       "      <td>NaN</td>\n",
       "      <td>NaN</td>\n",
       "      <td>NaN</td>\n",
       "      <td>...</td>\n",
       "      <td>0</td>\n",
       "      <td>0</td>\n",
       "      <td>20.75</td>\n",
       "      <td>0.01</td>\n",
       "      <td>23.7</td>\n",
       "      <td>0.2</td>\n",
       "      <td>1</td>\n",
       "      <td>1</td>\n",
       "      <td>no_rain</td>\n",
       "      <td>mild</td>\n",
       "    </tr>\n",
       "    <tr>\n",
       "      <th>4</th>\n",
       "      <td>physiotherapy</td>\n",
       "      <td>14:00</td>\n",
       "      <td>M</td>\n",
       "      <td>09/09/2021</td>\n",
       "      <td>no</td>\n",
       "      <td>NaN</td>\n",
       "      <td>motor</td>\n",
       "      <td>10/10/1954</td>\n",
       "      <td>5/2/2020</td>\n",
       "      <td>B. CAMBORIU</td>\n",
       "      <td>...</td>\n",
       "      <td>1</td>\n",
       "      <td>1</td>\n",
       "      <td>20.75</td>\n",
       "      <td>0.01</td>\n",
       "      <td>23.7</td>\n",
       "      <td>0.2</td>\n",
       "      <td>1</td>\n",
       "      <td>1</td>\n",
       "      <td>no_rain</td>\n",
       "      <td>mild</td>\n",
       "    </tr>\n",
       "    <tr>\n",
       "      <th>...</th>\n",
       "      <td>...</td>\n",
       "      <td>...</td>\n",
       "      <td>...</td>\n",
       "      <td>...</td>\n",
       "      <td>...</td>\n",
       "      <td>...</td>\n",
       "      <td>...</td>\n",
       "      <td>...</td>\n",
       "      <td>...</td>\n",
       "      <td>...</td>\n",
       "      <td>...</td>\n",
       "      <td>...</td>\n",
       "      <td>...</td>\n",
       "      <td>...</td>\n",
       "      <td>...</td>\n",
       "      <td>...</td>\n",
       "      <td>...</td>\n",
       "      <td>...</td>\n",
       "      <td>...</td>\n",
       "      <td>...</td>\n",
       "      <td>...</td>\n",
       "    </tr>\n",
       "    <tr>\n",
       "      <th>49588</th>\n",
       "      <td>NaN</td>\n",
       "      <td>10:20</td>\n",
       "      <td>M</td>\n",
       "      <td>01/02/2022</td>\n",
       "      <td>yes</td>\n",
       "      <td>pai tem médico</td>\n",
       "      <td>intellectual</td>\n",
       "      <td>9/3/2009</td>\n",
       "      <td>5/11/2019</td>\n",
       "      <td>ITAJAÍ</td>\n",
       "      <td>...</td>\n",
       "      <td>0</td>\n",
       "      <td>0</td>\n",
       "      <td>NaN</td>\n",
       "      <td>NaN</td>\n",
       "      <td>NaN</td>\n",
       "      <td>NaN</td>\n",
       "      <td>0</td>\n",
       "      <td>0</td>\n",
       "      <td>no_rain</td>\n",
       "      <td>heavy_cold</td>\n",
       "    </tr>\n",
       "    <tr>\n",
       "      <th>49589</th>\n",
       "      <td>NaN</td>\n",
       "      <td>10:20</td>\n",
       "      <td>M</td>\n",
       "      <td>01/02/2022</td>\n",
       "      <td>yes</td>\n",
       "      <td>NaN</td>\n",
       "      <td>NaN</td>\n",
       "      <td>NaN</td>\n",
       "      <td>NaN</td>\n",
       "      <td>NaN</td>\n",
       "      <td>...</td>\n",
       "      <td>0</td>\n",
       "      <td>0</td>\n",
       "      <td>NaN</td>\n",
       "      <td>NaN</td>\n",
       "      <td>NaN</td>\n",
       "      <td>NaN</td>\n",
       "      <td>0</td>\n",
       "      <td>0</td>\n",
       "      <td>no_rain</td>\n",
       "      <td>heavy_cold</td>\n",
       "    </tr>\n",
       "    <tr>\n",
       "      <th>49590</th>\n",
       "      <td>NaN</td>\n",
       "      <td>11:00</td>\n",
       "      <td>M</td>\n",
       "      <td>01/02/2022</td>\n",
       "      <td>no</td>\n",
       "      <td>NaN</td>\n",
       "      <td>intellectual</td>\n",
       "      <td>7/3/2016</td>\n",
       "      <td>11/2/2020</td>\n",
       "      <td>BOMBINHAS</td>\n",
       "      <td>...</td>\n",
       "      <td>0</td>\n",
       "      <td>1</td>\n",
       "      <td>NaN</td>\n",
       "      <td>NaN</td>\n",
       "      <td>NaN</td>\n",
       "      <td>NaN</td>\n",
       "      <td>0</td>\n",
       "      <td>0</td>\n",
       "      <td>no_rain</td>\n",
       "      <td>heavy_cold</td>\n",
       "    </tr>\n",
       "    <tr>\n",
       "      <th>49591</th>\n",
       "      <td>psychotherapy</td>\n",
       "      <td>11:00</td>\n",
       "      <td>M</td>\n",
       "      <td>01/02/2022</td>\n",
       "      <td>yes</td>\n",
       "      <td>NaN</td>\n",
       "      <td>NaN</td>\n",
       "      <td>NaN</td>\n",
       "      <td>NaN</td>\n",
       "      <td>NaN</td>\n",
       "      <td>...</td>\n",
       "      <td>0</td>\n",
       "      <td>0</td>\n",
       "      <td>NaN</td>\n",
       "      <td>NaN</td>\n",
       "      <td>NaN</td>\n",
       "      <td>NaN</td>\n",
       "      <td>0</td>\n",
       "      <td>0</td>\n",
       "      <td>no_rain</td>\n",
       "      <td>heavy_cold</td>\n",
       "    </tr>\n",
       "    <tr>\n",
       "      <th>49592</th>\n",
       "      <td>NaN</td>\n",
       "      <td>11:00</td>\n",
       "      <td>M</td>\n",
       "      <td>01/02/2022</td>\n",
       "      <td>no</td>\n",
       "      <td>NaN</td>\n",
       "      <td>intellectual</td>\n",
       "      <td>25/4/2016</td>\n",
       "      <td>2/9/2020</td>\n",
       "      <td>ITAJAÍ</td>\n",
       "      <td>...</td>\n",
       "      <td>0</td>\n",
       "      <td>1</td>\n",
       "      <td>NaN</td>\n",
       "      <td>NaN</td>\n",
       "      <td>NaN</td>\n",
       "      <td>NaN</td>\n",
       "      <td>0</td>\n",
       "      <td>0</td>\n",
       "      <td>no_rain</td>\n",
       "      <td>heavy_cold</td>\n",
       "    </tr>\n",
       "  </tbody>\n",
       "</table>\n",
       "<p>49593 rows × 26 columns</p>\n",
       "</div>"
      ],
      "text/plain": [
       "            specialty appointment_time gender appointment_date no_show  \\\n",
       "0       physiotherapy            13:20      M       09/09/2021     yes   \n",
       "1       psychotherapy            13:20      M       09/09/2021      no   \n",
       "2      speech therapy            13:20      F       09/09/2021      no   \n",
       "3       physiotherapy            13:20      F       09/09/2021      no   \n",
       "4       physiotherapy            14:00      M       09/09/2021      no   \n",
       "...               ...              ...    ...              ...     ...   \n",
       "49588             NaN            10:20      M       01/02/2022     yes   \n",
       "49589             NaN            10:20      M       01/02/2022     yes   \n",
       "49590             NaN            11:00      M       01/02/2022      no   \n",
       "49591   psychotherapy            11:00      M       01/02/2022     yes   \n",
       "49592             NaN            11:00      M       01/02/2022      no   \n",
       "\n",
       "       no_show_reason    disability date_of_birth entry_service_date  \\\n",
       "0               surto           NaN           NaN                NaN   \n",
       "1                 NaN           NaN           NaN                NaN   \n",
       "2                 NaN           NaN           NaN                NaN   \n",
       "3                 NaN           NaN           NaN                NaN   \n",
       "4                 NaN         motor    10/10/1954           5/2/2020   \n",
       "...               ...           ...           ...                ...   \n",
       "49588  pai tem médico  intellectual      9/3/2009          5/11/2019   \n",
       "49589             NaN           NaN           NaN                NaN   \n",
       "49590             NaN  intellectual      7/3/2016          11/2/2020   \n",
       "49591             NaN           NaN           NaN                NaN   \n",
       "49592             NaN  intellectual     25/4/2016           2/9/2020   \n",
       "\n",
       "              city  ... over_60_years_old patient_needs_companion  \\\n",
       "0              NaN  ...                 0                       0   \n",
       "1              NaN  ...                 0                       0   \n",
       "2              NaN  ...                 0                       0   \n",
       "3              NaN  ...                 0                       0   \n",
       "4      B. CAMBORIU  ...                 1                       1   \n",
       "...            ...  ...               ...                     ...   \n",
       "49588       ITAJAÍ  ...                 0                       0   \n",
       "49589          NaN  ...                 0                       0   \n",
       "49590    BOMBINHAS  ...                 0                       1   \n",
       "49591          NaN  ...                 0                       0   \n",
       "49592       ITAJAÍ  ...                 0                       1   \n",
       "\n",
       "       average_temp_day average_rain_day  max_temp_day  max_rain_day  \\\n",
       "0                 20.75             0.01          23.7           0.2   \n",
       "1                 20.75             0.01          23.7           0.2   \n",
       "2                 20.75             0.01          23.7           0.2   \n",
       "3                 20.75             0.01          23.7           0.2   \n",
       "4                 20.75             0.01          23.7           0.2   \n",
       "...                 ...              ...           ...           ...   \n",
       "49588               NaN              NaN           NaN           NaN   \n",
       "49589               NaN              NaN           NaN           NaN   \n",
       "49590               NaN              NaN           NaN           NaN   \n",
       "49591               NaN              NaN           NaN           NaN   \n",
       "49592               NaN              NaN           NaN           NaN   \n",
       "\n",
       "       rainy_day_before  storm_day_before  rain_intensity  heat_intensity  \n",
       "0                     1                 1         no_rain            mild  \n",
       "1                     1                 1         no_rain            mild  \n",
       "2                     1                 1         no_rain            mild  \n",
       "3                     1                 1         no_rain            mild  \n",
       "4                     1                 1         no_rain            mild  \n",
       "...                 ...               ...             ...             ...  \n",
       "49588                 0                 0         no_rain      heavy_cold  \n",
       "49589                 0                 0         no_rain      heavy_cold  \n",
       "49590                 0                 0         no_rain      heavy_cold  \n",
       "49591                 0                 0         no_rain      heavy_cold  \n",
       "49592                 0                 0         no_rain      heavy_cold  \n",
       "\n",
       "[49593 rows x 26 columns]"
      ]
     },
     "execution_count": 14,
     "metadata": {},
     "output_type": "execute_result"
    }
   ],
   "source": [
    "# Load dataset\n",
    "data = pd.read_csv(r\"C:\\Users\\Rabiatu Mohammed\\Downloads\\medical-appointments-no-show-en.csv\")\n",
    "data"
   ]
  },
  {
   "cell_type": "code",
   "execution_count": 16,
   "id": "96a61972",
   "metadata": {},
   "outputs": [
    {
     "name": "stdout",
     "output_type": "stream",
     "text": [
      "        specialty appointment_time gender appointment_date no_show  \\\n",
      "0   physiotherapy            13:20      M       09/09/2021     yes   \n",
      "1   psychotherapy            13:20      M       09/09/2021      no   \n",
      "2  speech therapy            13:20      F       09/09/2021      no   \n",
      "3   physiotherapy            13:20      F       09/09/2021      no   \n",
      "4   physiotherapy            14:00      M       09/09/2021      no   \n",
      "\n",
      "  no_show_reason disability date_of_birth entry_service_date         city  \\\n",
      "0          surto        NaN           NaN                NaN          NaN   \n",
      "1            NaN        NaN           NaN                NaN          NaN   \n",
      "2            NaN        NaN           NaN                NaN          NaN   \n",
      "3            NaN        NaN           NaN                NaN          NaN   \n",
      "4            NaN      motor    10/10/1954           5/2/2020  B. CAMBORIU   \n",
      "\n",
      "   ... over_60_years_old patient_needs_companion  average_temp_day  \\\n",
      "0  ...                 0                       0             20.75   \n",
      "1  ...                 0                       0             20.75   \n",
      "2  ...                 0                       0             20.75   \n",
      "3  ...                 0                       0             20.75   \n",
      "4  ...                 1                       1             20.75   \n",
      "\n",
      "  average_rain_day  max_temp_day  max_rain_day  rainy_day_before  \\\n",
      "0             0.01          23.7           0.2                 1   \n",
      "1             0.01          23.7           0.2                 1   \n",
      "2             0.01          23.7           0.2                 1   \n",
      "3             0.01          23.7           0.2                 1   \n",
      "4             0.01          23.7           0.2                 1   \n",
      "\n",
      "   storm_day_before  rain_intensity  heat_intensity  \n",
      "0                 1         no_rain            mild  \n",
      "1                 1         no_rain            mild  \n",
      "2                 1         no_rain            mild  \n",
      "3                 1         no_rain            mild  \n",
      "4                 1         no_rain            mild  \n",
      "\n",
      "[5 rows x 26 columns]\n",
      "<class 'pandas.core.frame.DataFrame'>\n",
      "RangeIndex: 49593 entries, 0 to 49592\n",
      "Data columns (total 26 columns):\n",
      " #   Column                   Non-Null Count  Dtype  \n",
      "---  ------                   --------------  -----  \n",
      " 0   specialty                42139 non-null  object \n",
      " 1   appointment_time         49593 non-null  object \n",
      " 2   gender                   49593 non-null  object \n",
      " 3   appointment_date         49593 non-null  object \n",
      " 4   no_show                  49593 non-null  object \n",
      " 5   no_show_reason           1737 non-null   object \n",
      " 6   disability               44456 non-null  object \n",
      " 7   date_of_birth            39272 non-null  object \n",
      " 8   entry_service_date       44438 non-null  object \n",
      " 9   city                     44412 non-null  object \n",
      " 10  icd                      10717 non-null  object \n",
      " 11  appointment_month        49593 non-null  object \n",
      " 12  appointment_year         49593 non-null  int64  \n",
      " 13  appointment_shift        49593 non-null  object \n",
      " 14  age                      39243 non-null  float64\n",
      " 15  under_12_years_old       49593 non-null  int64  \n",
      " 16  over_60_years_old        49593 non-null  int64  \n",
      " 17  patient_needs_companion  49593 non-null  int64  \n",
      " 18  average_temp_day         48577 non-null  float64\n",
      " 19  average_rain_day         48577 non-null  float64\n",
      " 20  max_temp_day             48577 non-null  float64\n",
      " 21  max_rain_day             48577 non-null  float64\n",
      " 22  rainy_day_before         49593 non-null  int64  \n",
      " 23  storm_day_before         49593 non-null  int64  \n",
      " 24  rain_intensity           49593 non-null  object \n",
      " 25  heat_intensity           49593 non-null  object \n",
      "dtypes: float64(5), int64(6), object(15)\n",
      "memory usage: 9.8+ MB\n",
      "None\n",
      "       appointment_year           age  under_12_years_old  over_60_years_old  \\\n",
      "count      49593.000000  39243.000000        49593.000000       49593.000000   \n",
      "mean        2018.255076     18.522361            0.472446           0.071784   \n",
      "std            1.736964     19.234999            0.499245           0.258133   \n",
      "min         2016.000000      2.000000            0.000000           0.000000   \n",
      "25%         2017.000000      8.000000            0.000000           0.000000   \n",
      "50%         2018.000000     11.000000            0.000000           0.000000   \n",
      "75%         2019.000000     15.000000            1.000000           0.000000   \n",
      "max         2022.000000    110.000000            1.000000           1.000000   \n",
      "\n",
      "       patient_needs_companion  average_temp_day  average_rain_day  \\\n",
      "count             49593.000000      48577.000000      48577.000000   \n",
      "mean                  0.544230         19.748317          0.190119   \n",
      "std                   0.498045          3.428767          0.452214   \n",
      "min                   0.000000          8.940000          0.000000   \n",
      "25%                   0.000000         17.480000          0.000000   \n",
      "50%                   1.000000         20.060000          0.010000   \n",
      "75%                   1.000000         22.120000          0.150000   \n",
      "max                   1.000000         28.010000          4.770000   \n",
      "\n",
      "       max_temp_day  max_rain_day  rainy_day_before  storm_day_before  \n",
      "count  48577.000000  48577.000000      49593.000000      49593.000000  \n",
      "mean      23.961984      1.895687          0.981005          0.981005  \n",
      "std        3.819804      4.445412          0.136507          0.136507  \n",
      "min       13.300000      0.000000          0.000000          0.000000  \n",
      "25%       21.400000      0.000000          1.000000          1.000000  \n",
      "50%       23.900000      0.200000          1.000000          1.000000  \n",
      "75%       26.500000      1.600000          1.000000          1.000000  \n",
      "max       35.400000     45.000000          1.000000          1.000000  \n"
     ]
    }
   ],
   "source": [
    "# Overview of the dataset\n",
    "print(data.head())\n",
    "print(data.info())\n",
    "print(data.describe())\n"
   ]
  },
  {
   "cell_type": "code",
   "execution_count": 17,
   "id": "004e4cfa",
   "metadata": {},
   "outputs": [
    {
     "name": "stdout",
     "output_type": "stream",
     "text": [
      "specialty                   7454\n",
      "appointment_time               0\n",
      "gender                         0\n",
      "appointment_date               0\n",
      "no_show                        0\n",
      "no_show_reason             47856\n",
      "disability                  5137\n",
      "date_of_birth              10321\n",
      "entry_service_date          5155\n",
      "city                        5181\n",
      "icd                        38876\n",
      "appointment_month              0\n",
      "appointment_year               0\n",
      "appointment_shift              0\n",
      "age                        10350\n",
      "under_12_years_old             0\n",
      "over_60_years_old              0\n",
      "patient_needs_companion        0\n",
      "average_temp_day            1016\n",
      "average_rain_day            1016\n",
      "max_temp_day                1016\n",
      "max_rain_day                1016\n",
      "rainy_day_before               0\n",
      "storm_day_before               0\n",
      "rain_intensity                 0\n",
      "heat_intensity                 0\n",
      "dtype: int64\n"
     ]
    }
   ],
   "source": [
    "# Check for missing values\n",
    "print(data.isnull().sum())"
   ]
  },
  {
   "cell_type": "code",
   "execution_count": 18,
   "id": "16294082",
   "metadata": {},
   "outputs": [],
   "source": [
    "# Convert 'appointment_date' to datetime, day-month-year format.\n",
    "data['appointment_date'] = pd.to_datetime(data['appointment_date'], format='%d/%m/%Y')\n",
    "\n",
    "# Convert 'date_of_birth' to datetime formats as missing values.\n",
    "data['date_of_birth'] = pd.to_datetime(data['date_of_birth'], format='%d/%m/%Y', errors='coerce')\n"
   ]
  },
  {
   "cell_type": "code",
   "execution_count": 19,
   "id": "dd564652",
   "metadata": {},
   "outputs": [
    {
     "name": "stdout",
     "output_type": "stream",
     "text": [
      "<class 'pandas.core.frame.DataFrame'>\n",
      "RangeIndex: 49593 entries, 0 to 49592\n",
      "Data columns (total 26 columns):\n",
      " #   Column                   Non-Null Count  Dtype         \n",
      "---  ------                   --------------  -----         \n",
      " 0   specialty                42139 non-null  object        \n",
      " 1   appointment_time         49593 non-null  object        \n",
      " 2   gender                   49593 non-null  object        \n",
      " 3   appointment_date         49593 non-null  datetime64[ns]\n",
      " 4   no_show                  49593 non-null  object        \n",
      " 5   no_show_reason           1737 non-null   object        \n",
      " 6   disability               44456 non-null  object        \n",
      " 7   date_of_birth            39243 non-null  datetime64[ns]\n",
      " 8   entry_service_date       44438 non-null  object        \n",
      " 9   city                     44412 non-null  object        \n",
      " 10  icd                      10717 non-null  object        \n",
      " 11  appointment_month        49593 non-null  object        \n",
      " 12  appointment_year         49593 non-null  int64         \n",
      " 13  appointment_shift        49593 non-null  object        \n",
      " 14  age                      39243 non-null  float64       \n",
      " 15  under_12_years_old       49593 non-null  int64         \n",
      " 16  over_60_years_old        49593 non-null  int64         \n",
      " 17  patient_needs_companion  49593 non-null  int64         \n",
      " 18  average_temp_day         48577 non-null  float64       \n",
      " 19  average_rain_day         48577 non-null  float64       \n",
      " 20  max_temp_day             48577 non-null  float64       \n",
      " 21  max_rain_day             48577 non-null  float64       \n",
      " 22  rainy_day_before         49593 non-null  int64         \n",
      " 23  storm_day_before         49593 non-null  int64         \n",
      " 24  rain_intensity           49593 non-null  object        \n",
      " 25  heat_intensity           49593 non-null  object        \n",
      "dtypes: datetime64[ns](2), float64(5), int64(6), object(13)\n",
      "memory usage: 9.8+ MB\n",
      "None\n"
     ]
    }
   ],
   "source": [
    "print(data.info())\n"
   ]
  },
  {
   "cell_type": "code",
   "execution_count": 20,
   "id": "da87a079",
   "metadata": {},
   "outputs": [
    {
     "name": "stdout",
     "output_type": "stream",
     "text": [
      "  appointment_date date_of_birth\n",
      "0       2021-09-09           NaT\n",
      "1       2021-09-09           NaT\n",
      "2       2021-09-09           NaT\n",
      "3       2021-09-09           NaT\n",
      "4       2021-09-09    1954-10-10\n"
     ]
    }
   ],
   "source": [
    "# Check the first few rows to verify the date format\n",
    "print(data[['appointment_date', 'date_of_birth']].head())\n"
   ]
  },
  {
   "cell_type": "code",
   "execution_count": 21,
   "id": "80a325f5",
   "metadata": {},
   "outputs": [
    {
     "name": "stdout",
     "output_type": "stream",
     "text": [
      "<class 'pandas.core.frame.DataFrame'>\n",
      "RangeIndex: 49593 entries, 0 to 49592\n",
      "Data columns (total 2 columns):\n",
      " #   Column            Non-Null Count  Dtype         \n",
      "---  ------            --------------  -----         \n",
      " 0   appointment_date  49593 non-null  datetime64[ns]\n",
      " 1   date_of_birth     39243 non-null  datetime64[ns]\n",
      "dtypes: datetime64[ns](2)\n",
      "memory usage: 775.0 KB\n",
      "None\n"
     ]
    }
   ],
   "source": [
    "# Confirm that the data types have been converted to datetime\n",
    "print(data[['appointment_date', 'date_of_birth']].info())\n"
   ]
  },
  {
   "cell_type": "code",
   "execution_count": 22,
   "id": "12cf129f",
   "metadata": {},
   "outputs": [
    {
     "name": "stdout",
     "output_type": "stream",
     "text": [
      "appointment_date        0\n",
      "date_of_birth       10350\n",
      "dtype: int64\n"
     ]
    }
   ],
   "source": [
    "# Check for NaT values which shows failed conversion\n",
    "nat_counts = data[['appointment_date', 'date_of_birth']].isna().sum()\n",
    "print(nat_counts)\n"
   ]
  },
  {
   "cell_type": "code",
   "execution_count": 25,
   "id": "d33af577",
   "metadata": {},
   "outputs": [
    {
     "name": "stdout",
     "output_type": "stream",
     "text": [
      "                    appointment_date                  date_of_birth\n",
      "count                          49593                          39243\n",
      "mean   2018-10-13 11:01:09.469482240  2003-12-09 17:20:56.876385536\n",
      "min              2016-06-20 00:00:00            1912-02-20 00:00:00\n",
      "25%              2017-05-03 00:00:00            2007-03-12 00:00:00\n",
      "50%              2018-05-22 00:00:00            2011-09-15 00:00:00\n",
      "75%              2019-10-21 00:00:00            2014-03-28 00:00:00\n",
      "max              2022-02-25 00:00:00            2020-04-02 00:00:00\n"
     ]
    }
   ],
   "source": [
    "# statistical summary of datetime columns\n",
    "print(data[['appointment_date', 'date_of_birth']].describe())\n"
   ]
  },
  {
   "cell_type": "code",
   "execution_count": 27,
   "id": "cef2ba0a",
   "metadata": {},
   "outputs": [],
   "source": [
    "# Categorize missing specialties as 'Unknown'\n",
    "data['specialty'].fillna('Unknown', inplace=True)\n",
    "\n"
   ]
  },
  {
   "cell_type": "code",
   "execution_count": 31,
   "id": "8612de2c",
   "metadata": {},
   "outputs": [
    {
     "name": "stdout",
     "output_type": "stream",
     "text": [
      "Missing 'specialty' values after fillna operation: 0\n"
     ]
    }
   ],
   "source": [
    "# Count the number of missing 'specialty' values after filling missing values with 'Unknown'\n",
    "missing_specialties_after = data['specialty'].isnull().sum()\n",
    "print(f\"Missing 'specialty' values after fillna operation: {missing_specialties_after}\")\n",
    "\n"
   ]
  },
  {
   "cell_type": "code",
   "execution_count": 32,
   "id": "0b78aeb9",
   "metadata": {},
   "outputs": [],
   "source": [
    "# Fill missing 'no_show_reason' with 'Not Applicable'\n",
    "data['no_show_reason'].fillna('Not Applicable', inplace=True)\n"
   ]
  },
  {
   "cell_type": "code",
   "execution_count": 33,
   "id": "5b044b83",
   "metadata": {},
   "outputs": [
    {
     "name": "stdout",
     "output_type": "stream",
     "text": [
      "0\n"
     ]
    }
   ],
   "source": [
    "# Check if there are any null values left in the 'no_show_reason' column\n",
    "print(data['no_show_reason'].isnull().sum())\n",
    "\n"
   ]
  },
  {
   "cell_type": "code",
   "execution_count": 34,
   "id": "f9c26d0b",
   "metadata": {},
   "outputs": [
    {
     "name": "stdout",
     "output_type": "stream",
     "text": [
      "0\n"
     ]
    }
   ],
   "source": [
    "# Fill missing 'disability' values with 'none' to indicate no disability recorded\n",
    "data['disability'].fillna('none', inplace=True)\n",
    "\n",
    "# Immediately check if there are any null values left in the 'disability' column\n",
    "print(data['disability'].isnull().sum())"
   ]
  },
  {
   "cell_type": "code",
   "execution_count": 35,
   "id": "efe5c245",
   "metadata": {},
   "outputs": [
    {
     "name": "stdout",
     "output_type": "stream",
     "text": [
      "39243\n"
     ]
    }
   ],
   "source": [
    "# Drop rows with missing 'date_of_birth' if age is essential for the analysis\n",
    "data.dropna(subset=['date_of_birth'], inplace=True)\n",
    "\n",
    "print(data['date_of_birth'].notnull().sum())\n"
   ]
  },
  {
   "cell_type": "code",
   "execution_count": 36,
   "id": "51172e74",
   "metadata": {},
   "outputs": [
    {
     "name": "stdout",
     "output_type": "stream",
     "text": [
      "Missing 'entry_service_date' values after fillna operation: 0\n",
      "Missing 'city' values after fillna operation: 0\n"
     ]
    }
   ],
   "source": [
    "# Categorize missing 'entry_service_date' and 'city' as 'Unknown'\n",
    "data['entry_service_date'].fillna('Unknown', inplace=True)\n",
    "data['city'].fillna('Unknown', inplace=True)\n",
    "\n",
    "\n",
    "# Count the number of missing values after the fillna operation for 'entry_service_date'\n",
    "missing_entry_service_date = data['entry_service_date'].isnull().sum()\n",
    "print(f\"Missing 'entry_service_date' values after fillna operation: {missing_entry_service_date}\")\n",
    "\n",
    "# Count the number of missing values after the fillna operation for 'city'\n",
    "missing_city = data['city'].isnull().sum()\n",
    "print(f\"Missing 'city' values after fillna operation: {missing_city}\")\n"
   ]
  },
  {
   "cell_type": "code",
   "execution_count": 38,
   "id": "357365fc",
   "metadata": {},
   "outputs": [
    {
     "name": "stdout",
     "output_type": "stream",
     "text": [
      "Missing 'icd' values: 28545\n"
     ]
    }
   ],
   "source": [
    "missing_icd_count = data['icd'].isnull().sum()\n",
    "print(f\"Missing 'icd' values: {missing_icd_count}\")\n",
    "\n"
   ]
  },
  {
   "cell_type": "code",
   "execution_count": 39,
   "id": "c9c016b0",
   "metadata": {},
   "outputs": [],
   "source": [
    "# Drop rows where 'icd' is missing as the unique identifier\n",
    "if missing_icd_count > 0:\n",
    "    data.dropna(subset=['icd'], inplace=True)\n"
   ]
  },
  {
   "cell_type": "code",
   "execution_count": 40,
   "id": "f6a8cebb",
   "metadata": {},
   "outputs": [
    {
     "name": "stdout",
     "output_type": "stream",
     "text": [
      "Missing 'icd' values after drop operation: 0\n"
     ]
    }
   ],
   "source": [
    "#verify that there are no missing values left in the 'icd' column\n",
    "print(f\"Missing 'icd' values after drop operation: {data['icd'].isnull().sum()}\")\n"
   ]
  },
  {
   "cell_type": "code",
   "execution_count": 41,
   "id": "0483a7bd",
   "metadata": {},
   "outputs": [
    {
     "name": "stdout",
     "output_type": "stream",
     "text": [
      "Duplicate 'icd' values: 10636\n"
     ]
    }
   ],
   "source": [
    "#check for duplicates, as the unique identifier should not only be non-null but also unique across all rows\n",
    "duplicate_icd_count = data.duplicated(subset=['icd']).sum()\n",
    "print(f\"Duplicate 'icd' values: {duplicate_icd_count}\")\n"
   ]
  },
  {
   "cell_type": "code",
   "execution_count": 42,
   "id": "b3556f1b",
   "metadata": {},
   "outputs": [
    {
     "name": "stdout",
     "output_type": "stream",
     "text": [
      "           specialty appointment_time gender appointment_date no_show  \\\n",
      "1484         Unknown            11:00      M       2021-07-08      no   \n",
      "15787  physiotherapy            10:20      M       2021-08-26     yes   \n",
      "15797        Unknown            11:00      M       2021-08-26     yes   \n",
      "32284  physiotherapy            10:20      M       2021-06-17     yes   \n",
      "35437  physiotherapy            10:20      M       2021-07-15      no   \n",
      "\n",
      "       no_show_reason disability date_of_birth entry_service_date    city  \\\n",
      "1484   Not Applicable      motor    1973-09-24           4/2/2020  ITAJAÍ   \n",
      "15787  Not Applicable      motor    1973-09-24           4/2/2020  ITAJAÍ   \n",
      "15797  Not Applicable      motor    1973-09-24           4/2/2020  ITAJAÍ   \n",
      "32284       internado      motor    1973-09-24           4/2/2020  ITAJAÍ   \n",
      "35437  Not Applicable      motor    1973-09-24           4/2/2020  ITAJAÍ   \n",
      "\n",
      "       ... over_60_years_old patient_needs_companion  average_temp_day  \\\n",
      "1484   ...                 0                       0             17.14   \n",
      "15787  ...                 0                       0             18.85   \n",
      "15797  ...                 0                       0             18.85   \n",
      "32284  ...                 0                       0             14.31   \n",
      "35437  ...                 0                       0             19.05   \n",
      "\n",
      "      average_rain_day  max_temp_day  max_rain_day  rainy_day_before  \\\n",
      "1484              0.00          22.3           0.0                 1   \n",
      "15787             0.16          20.8           2.0                 1   \n",
      "15797             0.16          20.8           2.0                 1   \n",
      "32284             0.02          16.5           0.6                 1   \n",
      "35437             0.08          20.6           1.2                 1   \n",
      "\n",
      "       storm_day_before  rain_intensity  heat_intensity  \n",
      "1484                  1         no_rain            mild  \n",
      "15787                 1            weak            cold  \n",
      "15797                 1            weak            cold  \n",
      "32284                 1         no_rain            cold  \n",
      "35437                 1            weak            cold  \n",
      "\n",
      "[5 rows x 26 columns]\n"
     ]
    }
   ],
   "source": [
    "print(data[data.duplicated(subset=['icd'], keep=False)].sort_values(by='icd').head())\n"
   ]
  },
  {
   "cell_type": "code",
   "execution_count": 43,
   "id": "89c4cc1d",
   "metadata": {},
   "outputs": [
    {
     "name": "stdout",
     "output_type": "stream",
     "text": [
      "     icd  appointment_count  average_age  proportion_no_show\n",
      "0  D43.4                 17     49.00000            0.235294\n",
      "1    F68                 34      7.00000            0.176471\n",
      "2    F71                 45     14.00000            0.111111\n",
      "3  F71.2                 17      9.00000            0.352941\n",
      "4    F80                115      7.86087            0.121739\n"
     ]
    }
   ],
   "source": [
    "# Preprocess 'no_show': 'yes' to indicate a no-show. Calculate metrics for each 'icd': appointment count, average patient age, and no-show rate.\n",
    "aggregated_data = data.groupby('icd').agg({\n",
    "    'appointment_date': 'count', \n",
    "    'age': 'mean', \n",
    "    'no_show': lambda x: (x == 'yes').mean() \n",
    "}).reset_index()\n",
    "\n",
    "# Rename columns to reflect the aggregated metrics for clarity\n",
    "aggregated_data.rename(columns={\n",
    "    'appointment_date': 'appointment_count',\n",
    "    'age': 'average_age',\n",
    "    'no_show': 'proportion_no_show'\n",
    "}, inplace=True)\n",
    "\n",
    "\n",
    "print(aggregated_data.head())\n"
   ]
  },
  {
   "cell_type": "code",
   "execution_count": 44,
   "id": "0ec3b96e",
   "metadata": {},
   "outputs": [
    {
     "data": {
      "image/png": "[encoded data removed]",
      "text/plain": [
       "<Figure size 1000x600 with 1 Axes>"
      ]
     },
     "metadata": {},
     "output_type": "display_data"
    }
   ],
   "source": [
    "# Plotting the distribution of appointment counts\n",
    "plt.figure(figsize=(10, 6))\n",
    "sns.histplot(aggregated_data['appointment_count'], bins=30, kde=True)\n",
    "plt.title('Distribution of Appointment Counts per ICD Code')\n",
    "plt.xlabel('Appointment Count')\n",
    "plt.ylabel('Frequency')\n",
    "plt.show()\n"
   ]
  },
  {
   "cell_type": "code",
   "execution_count": 45,
   "id": "d031f8db",
   "metadata": {},
   "outputs": [
    {
     "data": {
      "image/png": "[encoded data removed]",
      "text/plain": [
       "<Figure size 1000x600 with 1 Axes>"
      ]
     },
     "metadata": {},
     "output_type": "display_data"
    }
   ],
   "source": [
    "# Scatter plot for average age vs. no-show rate\n",
    "plt.figure(figsize=(10, 6))\n",
    "sns.scatterplot(x='average_age', y='proportion_no_show', data=aggregated_data)\n",
    "plt.title('Average Age vs. No-show Rate for Each ICD Code')\n",
    "plt.xlabel('Average Age')\n",
    "plt.ylabel('Proportion of No-shows')\n",
    "plt.show()\n"
   ]
  },
  {
   "cell_type": "code",
   "execution_count": 46,
   "id": "d3b0947d",
   "metadata": {},
   "outputs": [
    {
     "data": {
      "image/png": "[encoded data removed]",
      "text/plain": [
       "<Figure size 800x600 with 2 Axes>"
      ]
     },
     "metadata": {},
     "output_type": "display_data"
    }
   ],
   "source": [
    "# Calculating correlation matrix\n",
    "corr_matrix = aggregated_data[['appointment_count', 'average_age', 'proportion_no_show']].corr()\n",
    "\n",
    "# Plotting the heatmap\n",
    "plt.figure(figsize=(8, 6))\n",
    "sns.heatmap(corr_matrix, annot=True, cmap='coolwarm')\n",
    "plt.title('Correlation Heatmap')\n",
    "plt.show()\n"
   ]
  },
  {
   "cell_type": "code",
   "execution_count": 47,
   "id": "d2d2408f",
   "metadata": {},
   "outputs": [],
   "source": [
    "# 'aggregated_data'  DataFrame and it contains 'average_age' and 'proportion_no_show' columns\n",
    "younger_patients = aggregated_data[aggregated_data['average_age'] < 30]['proportion_no_show']\n",
    "older_patients = aggregated_data[aggregated_data['average_age'] >= 30]['proportion_no_show']\n",
    "\n",
    "\n"
   ]
  },
  {
   "cell_type": "code",
   "execution_count": 48,
   "id": "54bd9600",
   "metadata": {},
   "outputs": [
    {
     "name": "stdout",
     "output_type": "stream",
     "text": [
      "T-statistic: 1.698129575161791, P-value: 0.09466431806492037\n"
     ]
    }
   ],
   "source": [
    "from scipy.stats import ttest_ind\n",
    "\n",
    "# Perform the t-test\n",
    "t_stat, p_value = ttest_ind(younger_patients, older_patients)\n",
    "\n",
    "# Print the results\n",
    "print(f\"T-statistic: {t_stat}, P-value: {p_value}\")\n"
   ]
  },
  {
   "cell_type": "code",
   "execution_count": 49,
   "id": "3a845788",
   "metadata": {},
   "outputs": [
    {
     "name": "stdout",
     "output_type": "stream",
     "text": [
      "                    average_age  proportion_no_show\n",
      "average_age            1.000000           -0.201567\n",
      "proportion_no_show    -0.201567            1.000000\n"
     ]
    }
   ],
   "source": [
    "# Calculate the correlation coefficient between 'average_age' and 'proportion_no_show'\n",
    "correlation_coefficient = aggregated_data[['average_age', 'proportion_no_show']].corr()\n",
    "\n",
    "# Display the correlation matrix\n",
    "print(correlation_coefficient)\n"
   ]
  },
  {
   "cell_type": "code",
   "execution_count": 51,
   "id": "3350d7a4",
   "metadata": {},
   "outputs": [
    {
     "data": {
      "image/png": "[encoded data removed]",
      "text/plain": [
       "<Figure size 800x600 with 1 Axes>"
      ]
     },
     "metadata": {},
     "output_type": "display_data"
    }
   ],
   "source": [
    "plt.figure(figsize=(8, 6))\n",
    "sns.barplot(x='appointment_shift', y=data['no_show'].map({'yes': 1, 'no': 0}), estimator=np.mean, errorbar=None, data=data)\n",
    "plt.title('No-show Rates by Appointment Shift')\n",
    "plt.ylabel('Average No-show Rate')\n",
    "plt.xlabel('Appointment Shift')\n",
    "plt.show()\n"
   ]
  },
  {
   "cell_type": "code",
   "execution_count": 53,
   "id": "535eeda9",
   "metadata": {},
   "outputs": [
    {
     "name": "stdout",
     "output_type": "stream",
     "text": [
      "Chi-square test p-value: 0.0006308896477802082\n"
     ]
    }
   ],
   "source": [
    "from scipy.stats import chi2_contingency\n",
    "\n",
    "# Prepare contingency table\n",
    "contingency_table = pd.crosstab(data['appointment_shift'], data['no_show'])\n",
    "\n",
    "# Perform the chi-square test\n",
    "chi2, p, dof, expected = chi2_contingency(contingency_table)\n",
    "print(f\"Chi-square test p-value: {p}\")\n",
    "\n"
   ]
  },
  {
   "cell_type": "code",
   "execution_count": 54,
   "id": "34ab686c",
   "metadata": {},
   "outputs": [
    {
     "name": "stdout",
     "output_type": "stream",
     "text": [
      "no_show              no  yes\n",
      "appointment_shift           \n",
      "afternoon          5341  856\n",
      "morning            3981  520\n"
     ]
    }
   ],
   "source": [
    "print(contingency_table)\n"
   ]
  },
  {
   "cell_type": "code",
   "execution_count": 55,
   "id": "5b0e92f6",
   "metadata": {},
   "outputs": [
    {
     "name": "stdout",
     "output_type": "stream",
     "text": [
      "no_show              no  yes  no_show_rate\n",
      "appointment_shift                         \n",
      "afternoon          5341  856      0.138131\n",
      "morning            3981  520      0.115530\n"
     ]
    }
   ],
   "source": [
    "# Calculate the no-show rate for each shift\n",
    "contingency_table['no_show_rate'] = contingency_table['yes'] / (contingency_table['yes'] + contingency_table['no'])\n",
    "\n",
    "# Print the updated contingency table with no-show rates\n",
    "print(contingency_table)\n"
   ]
  },
  {
   "cell_type": "code",
   "execution_count": 58,
   "id": "20ddea0c",
   "metadata": {},
   "outputs": [
    {
     "name": "stdout",
     "output_type": "stream",
     "text": [
      "Index(['specialty', 'appointment_time', 'gender', 'appointment_date',\n",
      "       'no_show', 'no_show_reason', 'disability', 'date_of_birth',\n",
      "       'entry_service_date', 'city', 'icd', 'appointment_month',\n",
      "       'appointment_year', 'appointment_shift', 'age', 'under_12_years_old',\n",
      "       'over_60_years_old', 'patient_needs_companion', 'average_temp_day',\n",
      "       'average_rain_day', 'max_temp_day', 'max_rain_day', 'rainy_day_before',\n",
      "       'storm_day_before', 'rain_intensity', 'heat_intensity'],\n",
      "      dtype='object')\n"
     ]
    }
   ],
   "source": [
    "print(data.columns)\n",
    "\n",
    "\n",
    "\n",
    "\n"
   ]
  },
  {
   "cell_type": "code",
   "execution_count": 60,
   "id": "33841229",
   "metadata": {},
   "outputs": [
    {
     "name": "stdout",
     "output_type": "stream",
     "text": [
      "10698\n"
     ]
    }
   ],
   "source": [
    "data['rain_intensity'] = pd.to_numeric(data['rain_intensity'], errors='coerce')\n",
    "\n",
    "\n",
    "print(data['rain_intensity'].isna().sum())\n",
    "\n"
   ]
  },
  {
   "cell_type": "code",
   "execution_count": 61,
   "id": "a97db9f0",
   "metadata": {},
   "outputs": [
    {
     "name": "stdout",
     "output_type": "stream",
     "text": [
      "Low threshold for rain intensity: nan\n",
      "High threshold for rain intensity: nan\n"
     ]
    }
   ],
   "source": [
    "# Calculate quantiles  'rain_intensity' is numeric\n",
    "low_threshold = data['rain_intensity'].quantile(0.33)\n",
    "high_threshold = data['rain_intensity'].quantile(0.66)\n",
    "\n",
    "print(f\"Low threshold for rain intensity: {low_threshold}\")\n",
    "print(f\"High threshold for rain intensity: {high_threshold}\")\n"
   ]
  },
  {
   "cell_type": "code",
   "execution_count": 64,
   "id": "4ceb7f1c",
   "metadata": {},
   "outputs": [],
   "source": [
    "# Define the categorization function\n",
    "def categorize_rain_intensity(rain_intensity):\n",
    "    if pd.isna(rain_intensity):\n",
    "        return 'Unknown'  \n",
    "    elif rain_intensity < 5: \n",
    "        return 'Low'\n",
    "    elif rain_intensity < 15:\n",
    "        return 'Medium'\n",
    "    else:\n",
    "        return 'High'\n",
    "\n",
    "\n",
    "data['rain_intensity_category'] = data['rain_intensity'].apply(categorize_rain_intensity)\n"
   ]
  },
  {
   "cell_type": "code",
   "execution_count": 65,
   "id": "d035aa16",
   "metadata": {},
   "outputs": [
    {
     "name": "stdout",
     "output_type": "stream",
     "text": [
      "rain_intensity_category\n",
      "Unknown    10698\n",
      "Name: count, dtype: int64\n"
     ]
    }
   ],
   "source": [
    "print(data['rain_intensity_category'].value_counts(dropna=False))\n"
   ]
  },
  {
   "cell_type": "code",
   "execution_count": 66,
   "id": "7d58e4af",
   "metadata": {},
   "outputs": [
    {
     "data": {
      "image/png": "[encoded data removed]",
      "text/plain": [
       "<Figure size 640x480 with 1 Axes>"
      ]
     },
     "metadata": {},
     "output_type": "display_data"
    }
   ],
   "source": [
    "#The barplot\n",
    "sns.barplot(\n",
    "    x='rain_intensity_category', \n",
    "    y=data['no_show'].map({'yes': 1, 'no': 0}), \n",
    "    data=data, \n",
    "    estimator=np.mean\n",
    ")\n",
    "plt.title('No-show Rates by Rain Intensity Category')\n",
    "plt.ylabel('No-show Rate')\n",
    "plt.show()\n"
   ]
  },
  {
   "cell_type": "code",
   "execution_count": null,
   "id": "b119783f",
   "metadata": {},
   "outputs": [],
   "source": []
  }
 ],
 "metadata": {
  "kernelspec": {
   "display_name": "Python 3 (ipykernel)",
   "language": "python",
   "name": "python3"
  },
  "language_info": {
   "codemirror_mode": {
    "name": "ipython",
    "version": 3
   },
   "file_extension": ".py",
   "mimetype": "text/x-python",
   "name": "python",
   "nbconvert_exporter": "python",
   "pygments_lexer": "ipython3",
   "version": "3.11.5"
  }
 },
 "nbformat": 4,
 "nbformat_minor": 5
}
